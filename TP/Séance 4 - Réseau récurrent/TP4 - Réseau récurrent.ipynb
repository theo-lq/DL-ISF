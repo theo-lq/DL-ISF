{
 "cells": [
  {
   "cell_type": "markdown",
   "metadata": {
    "id": "Z7cDc2dVX2D1"
   },
   "source": [
    "# Séance 4 - Réseau récurrent\n",
    "\n",
    "Dans cette séance nous allons entraîner un modèle à copier le style de poésie de Beaudelaire, spécifiquement l'oeuvre *Les fleurs du mal*. Ce TP est largement inspiré du cours du [CNAM](https://cedric.cnam.fr/~thomen/cours/US330X/tpRNNs.html) que l'on a adapté ici.\n",
    "\n",
    "Pour cela, nous utiliserons le projet [Gutenberg](https://www.gutenberg.org) qui permet l'accès l'ensemble des oeuvres littéraires classique gratuitement. C'est sur ce dataset, entre autres, que les LLM s'entraînent.\n",
    "\n",
    "Commençons par importer les packages dont nous aurons besoin."
   ]
  },
  {
   "cell_type": "code",
   "execution_count": 1,
   "metadata": {
    "id": "Pe1mrRDtYaBM"
   },
   "outputs": [],
   "source": [
    "import numpy as np\n",
    "import pandas as pd\n",
    "import matplotlib.pyplot as plt\n",
    "import seaborn as sns; sns.set(style=\"whitegrid\")\n",
    "\n",
    "import tensorflow as tf\n",
    "from tensorflow import keras"
   ]
  },
  {
   "cell_type": "markdown",
   "metadata": {
    "id": "InTQRzhkY6My"
   },
   "source": [
    "Après avoir chargé dans l'environnement le fichier .txt de poésie, nous devons le travailler un peu pour l'exploiter. Quand on regarde le détail du fichier, on voit qu'il y a du texte qui n'est pas de la poésie. Nous décidons de n'exploiter que les poèmes."
   ]
  },
  {
   "cell_type": "code",
   "execution_count": 2,
   "metadata": {
    "id": "hkSTixun__Xw"
   },
   "outputs": [],
   "source": [
    "start = False\n",
    "book = open(\"Beaudelaire.txt\", 'r' , encoding = 'utf8')\n",
    "lines = book.readlines()\n",
    "verses = []\n",
    "\n",
    "for line in lines:\n",
    " line = line.strip().lower()\n",
    " if(\"AU LECTEUR\".lower() in line and start==False):\n",
    "  start = True\n",
    " if(\"End of the Project Gutenberg EBook of Les Fleurs du Mal, by Charles Baudelaire\".lower() in line):\n",
    "  break\n",
    " if(start==False or len(line) == 0):\n",
    "  continue\n",
    " verses.append(line)\n",
    "\n",
    "book.close()\n",
    "text = \" \".join(verses)\n",
    "characters = sorted(set([character for character in text]))\n",
    "n_characters = len(characters)"
   ]
  },
  {
   "cell_type": "markdown",
   "metadata": {
    "id": "7626TUDbZHVf"
   },
   "source": [
    "On décide ici de le découper en séquence de 32 caractères et de se décaler d'un caractère à chaque fois. Nous allons donc prédire le caractère suivant à partir des 32 caractères précédents.\n",
    "Construisons deux listes qui, une fois transformée, deviendront $X$ et $y$.\n",
    "\n",
    "**Consigne** : Compléter la cellule suivante avec les informations précédentes."
   ]
  },
  {
   "cell_type": "code",
   "execution_count": 3,
   "metadata": {
    "id": "uO403MyQAzim"
   },
   "outputs": [],
   "source": [
    "sequence_length = 32\n",
    "stride = 1\n",
    "sequences = []\n",
    "y_character = []\n",
    "for index in range(0, len(text) - sequence_length, stride):\n",
    "    sequences.append(text[index:(index + sequence_length)])\n",
    "    y_character.append(text[index + sequence_length])"
   ]
  },
  {
   "cell_type": "markdown",
   "metadata": {
    "id": "12vayeAWZaAo"
   },
   "source": [
    "Un réseau de neurone ne comprend pas le texte, donc nous devrons jongler entre nombre et caractères. Pour cela, nous créons deux dictionnaires pour traduire ces deux visions."
   ]
  },
  {
   "cell_type": "code",
   "execution_count": 4,
   "metadata": {
    "id": "rGkZx3JQB3gn"
   },
   "outputs": [],
   "source": [
    "character_to_index = dict((character, index) for index, character in enumerate(characters))\n",
    "index_to_character = dict((index, character) for index, character in enumerate(characters))"
   ]
  },
  {
   "cell_type": "markdown",
   "metadata": {
    "id": "4er_XSvHZljl"
   },
   "source": [
    "Nous sommes maintenant prêt pour renseigner $X$ et $y$. La matrice $X$ sera de taille $n \\times N \\times C$ avec:\n",
    "* $n$ : le nombre de séquence exemples\n",
    "* $N$ : la longueur de la séquence que l'on considère, ici 32\n",
    "* $C$ : le nombre de caractères différents, ici stocké dans la variable *n_characters*\n",
    "\n",
    "La matrice $y$ sera de taille $n\\times C$. Les deux matrices seront de types booléens avec la valeur *True* à l'index du caractères représenté.\n",
    "\n",
    "**Consigne** : Remplir la cellule suivante avec les informations précédentes. On utilisera le dictionnaire *character_to_index*."
   ]
  },
  {
   "cell_type": "code",
   "execution_count": 5,
   "metadata": {
    "id": "3b5vdYJ_DO8y"
   },
   "outputs": [],
   "source": [
    "X = np.zeros((len(sequences), sequence_length, n_characters), dtype=bool)\n",
    "y = np.zeros((len(sequences), n_characters), dtype=bool)\n",
    "\n",
    "for row, sequence in enumerate(sequences):\n",
    "    for position, character in enumerate(sequence):\n",
    "        X[row][position][character_to_index[character]] = True\n",
    "    y[row][character_to_index[y_character[row]]] = True"
   ]
  },
  {
   "cell_type": "markdown",
   "metadata": {
    "id": "GhrZsGulZs6U"
   },
   "source": [
    "Découpons à présent $X$ et $y$ en un jeu de test et un jeu d'entraînement. Aussi, nous allons sauvegarder ces matrices au cas où nous souhaiterions ne pas avoir à relancer ce preprocessing."
   ]
  },
  {
   "cell_type": "code",
   "execution_count": 6,
   "metadata": {
    "id": "b37hlbPmFUd6"
   },
   "outputs": [],
   "source": [
    "train_size = 0.8\n",
    "train_index = int(round(len(sequences)*train_size))\n",
    "X_train = X[:train_index,:,:]\n",
    "y_train = y[:train_index,:]\n",
    "\n",
    "X_test = X[train_index:,:,:]\n",
    "y_test = y[train_index:,:]"
   ]
  },
  {
   "cell_type": "markdown",
   "metadata": {
    "id": "K-zzNAhSZ7pA"
   },
   "source": [
    "## Modélisation\n",
    "\n",
    "Dans cet exemple, nous allons définir un réseau récurrent avec les neurones de bases : pas de LSTM ou GRU.\n",
    "\n",
    "Un neurone *SimpleRNN* possède les mêmes attributs qu'un neurones classique en plus de deux paramètres majeurs:\n",
    "* **return_sequences**: si l'on doit renvoyer la totalité de la séquence ou seulement la dernière valeur\n",
    "* **unroll**: permet d'accélérer l'entraînement du réseau de neurone au prix de plus de mémoire impliquée\n",
    "\n",
    "**Consigne** : Compléter la cellule suivante pour définir le réseau de neurones avec les informations précédentes."
   ]
  },
  {
   "cell_type": "code",
   "execution_count": 7,
   "metadata": {
    "id": "muGo3GElW-6l"
   },
   "outputs": [
    {
     "name": "stderr",
     "output_type": "stream",
     "text": [
      "2024-09-18 21:45:18.093797: I metal_plugin/src/device/metal_device.cc:1154] Metal device set to: Apple M2\n",
      "2024-09-18 21:45:18.093815: I metal_plugin/src/device/metal_device.cc:296] systemMemory: 16.00 GB\n",
      "2024-09-18 21:45:18.093820: I metal_plugin/src/device/metal_device.cc:313] maxCacheSize: 5.33 GB\n",
      "2024-09-18 21:45:18.093835: I tensorflow/core/common_runtime/pluggable_device/pluggable_device_factory.cc:305] Could not identify NUMA node of platform GPU ID 0, defaulting to 0. Your kernel may not have been built with NUMA support.\n",
      "2024-09-18 21:45:18.093846: I tensorflow/core/common_runtime/pluggable_device/pluggable_device_factory.cc:271] Created TensorFlow device (/job:localhost/replica:0/task:0/device:GPU:0 with 0 MB memory) -> physical PluggableDevice (device: 0, name: METAL, pci bus id: <undefined>)\n",
      "/Users/theo/Library/Python/3.9/lib/python/site-packages/keras/src/layers/rnn/rnn.py:204: UserWarning: Do not pass an `input_shape`/`input_dim` argument to a layer. When using Sequential models, prefer using an `Input(shape)` object as the first layer in the model instead.\n",
      "  super().__init__(**kwargs)\n"
     ]
    },
    {
     "data": {
      "text/html": [
       "<pre style=\"white-space:pre;overflow-x:auto;line-height:normal;font-family:Menlo,'DejaVu Sans Mono',consolas,'Courier New',monospace\"><span style=\"font-weight: bold\">Model: \"sequential\"</span>\n",
       "</pre>\n"
      ],
      "text/plain": [
       "\u001b[1mModel: \"sequential\"\u001b[0m\n"
      ]
     },
     "metadata": {},
     "output_type": "display_data"
    },
    {
     "data": {
      "text/html": [
       "<pre style=\"white-space:pre;overflow-x:auto;line-height:normal;font-family:Menlo,'DejaVu Sans Mono',consolas,'Courier New',monospace\">┏━━━━━━━━━━━━━━━━━━━━━━━━━━━━━━━━━┳━━━━━━━━━━━━━━━━━━━━━━━━┳━━━━━━━━━━━━━━━┓\n",
       "┃<span style=\"font-weight: bold\"> Layer (type)                    </span>┃<span style=\"font-weight: bold\"> Output Shape           </span>┃<span style=\"font-weight: bold\">       Param # </span>┃\n",
       "┡━━━━━━━━━━━━━━━━━━━━━━━━━━━━━━━━━╇━━━━━━━━━━━━━━━━━━━━━━━━╇━━━━━━━━━━━━━━━┩\n",
       "│ simple_rnn (<span style=\"color: #0087ff; text-decoration-color: #0087ff\">SimpleRNN</span>)          │ (<span style=\"color: #00d7ff; text-decoration-color: #00d7ff\">None</span>, <span style=\"color: #00af00; text-decoration-color: #00af00\">32</span>, <span style=\"color: #00af00; text-decoration-color: #00af00\">128</span>)        │        <span style=\"color: #00af00; text-decoration-color: #00af00\">23,424</span> │\n",
       "├─────────────────────────────────┼────────────────────────┼───────────────┤\n",
       "│ layer_normalization             │ (<span style=\"color: #00d7ff; text-decoration-color: #00d7ff\">None</span>, <span style=\"color: #00af00; text-decoration-color: #00af00\">32</span>, <span style=\"color: #00af00; text-decoration-color: #00af00\">128</span>)        │           <span style=\"color: #00af00; text-decoration-color: #00af00\">256</span> │\n",
       "│ (<span style=\"color: #0087ff; text-decoration-color: #0087ff\">LayerNormalization</span>)            │                        │               │\n",
       "├─────────────────────────────────┼────────────────────────┼───────────────┤\n",
       "│ simple_rnn_1 (<span style=\"color: #0087ff; text-decoration-color: #0087ff\">SimpleRNN</span>)        │ (<span style=\"color: #00d7ff; text-decoration-color: #00d7ff\">None</span>, <span style=\"color: #00af00; text-decoration-color: #00af00\">64</span>)             │        <span style=\"color: #00af00; text-decoration-color: #00af00\">12,352</span> │\n",
       "├─────────────────────────────────┼────────────────────────┼───────────────┤\n",
       "│ dense (<span style=\"color: #0087ff; text-decoration-color: #0087ff\">Dense</span>)                   │ (<span style=\"color: #00d7ff; text-decoration-color: #00d7ff\">None</span>, <span style=\"color: #00af00; text-decoration-color: #00af00\">64</span>)             │         <span style=\"color: #00af00; text-decoration-color: #00af00\">4,160</span> │\n",
       "├─────────────────────────────────┼────────────────────────┼───────────────┤\n",
       "│ dense_1 (<span style=\"color: #0087ff; text-decoration-color: #0087ff\">Dense</span>)                 │ (<span style=\"color: #00d7ff; text-decoration-color: #00d7ff\">None</span>, <span style=\"color: #00af00; text-decoration-color: #00af00\">54</span>)             │         <span style=\"color: #00af00; text-decoration-color: #00af00\">3,510</span> │\n",
       "└─────────────────────────────────┴────────────────────────┴───────────────┘\n",
       "</pre>\n"
      ],
      "text/plain": [
       "┏━━━━━━━━━━━━━━━━━━━━━━━━━━━━━━━━━┳━━━━━━━━━━━━━━━━━━━━━━━━┳━━━━━━━━━━━━━━━┓\n",
       "┃\u001b[1m \u001b[0m\u001b[1mLayer (type)                   \u001b[0m\u001b[1m \u001b[0m┃\u001b[1m \u001b[0m\u001b[1mOutput Shape          \u001b[0m\u001b[1m \u001b[0m┃\u001b[1m \u001b[0m\u001b[1m      Param #\u001b[0m\u001b[1m \u001b[0m┃\n",
       "┡━━━━━━━━━━━━━━━━━━━━━━━━━━━━━━━━━╇━━━━━━━━━━━━━━━━━━━━━━━━╇━━━━━━━━━━━━━━━┩\n",
       "│ simple_rnn (\u001b[38;5;33mSimpleRNN\u001b[0m)          │ (\u001b[38;5;45mNone\u001b[0m, \u001b[38;5;34m32\u001b[0m, \u001b[38;5;34m128\u001b[0m)        │        \u001b[38;5;34m23,424\u001b[0m │\n",
       "├─────────────────────────────────┼────────────────────────┼───────────────┤\n",
       "│ layer_normalization             │ (\u001b[38;5;45mNone\u001b[0m, \u001b[38;5;34m32\u001b[0m, \u001b[38;5;34m128\u001b[0m)        │           \u001b[38;5;34m256\u001b[0m │\n",
       "│ (\u001b[38;5;33mLayerNormalization\u001b[0m)            │                        │               │\n",
       "├─────────────────────────────────┼────────────────────────┼───────────────┤\n",
       "│ simple_rnn_1 (\u001b[38;5;33mSimpleRNN\u001b[0m)        │ (\u001b[38;5;45mNone\u001b[0m, \u001b[38;5;34m64\u001b[0m)             │        \u001b[38;5;34m12,352\u001b[0m │\n",
       "├─────────────────────────────────┼────────────────────────┼───────────────┤\n",
       "│ dense (\u001b[38;5;33mDense\u001b[0m)                   │ (\u001b[38;5;45mNone\u001b[0m, \u001b[38;5;34m64\u001b[0m)             │         \u001b[38;5;34m4,160\u001b[0m │\n",
       "├─────────────────────────────────┼────────────────────────┼───────────────┤\n",
       "│ dense_1 (\u001b[38;5;33mDense\u001b[0m)                 │ (\u001b[38;5;45mNone\u001b[0m, \u001b[38;5;34m54\u001b[0m)             │         \u001b[38;5;34m3,510\u001b[0m │\n",
       "└─────────────────────────────────┴────────────────────────┴───────────────┘\n"
      ]
     },
     "metadata": {},
     "output_type": "display_data"
    },
    {
     "data": {
      "text/html": [
       "<pre style=\"white-space:pre;overflow-x:auto;line-height:normal;font-family:Menlo,'DejaVu Sans Mono',consolas,'Courier New',monospace\"><span style=\"font-weight: bold\"> Total params: </span><span style=\"color: #00af00; text-decoration-color: #00af00\">43,702</span> (170.71 KB)\n",
       "</pre>\n"
      ],
      "text/plain": [
       "\u001b[1m Total params: \u001b[0m\u001b[38;5;34m43,702\u001b[0m (170.71 KB)\n"
      ]
     },
     "metadata": {},
     "output_type": "display_data"
    },
    {
     "data": {
      "text/html": [
       "<pre style=\"white-space:pre;overflow-x:auto;line-height:normal;font-family:Menlo,'DejaVu Sans Mono',consolas,'Courier New',monospace\"><span style=\"font-weight: bold\"> Trainable params: </span><span style=\"color: #00af00; text-decoration-color: #00af00\">43,702</span> (170.71 KB)\n",
       "</pre>\n"
      ],
      "text/plain": [
       "\u001b[1m Trainable params: \u001b[0m\u001b[38;5;34m43,702\u001b[0m (170.71 KB)\n"
      ]
     },
     "metadata": {},
     "output_type": "display_data"
    },
    {
     "data": {
      "text/html": [
       "<pre style=\"white-space:pre;overflow-x:auto;line-height:normal;font-family:Menlo,'DejaVu Sans Mono',consolas,'Courier New',monospace\"><span style=\"font-weight: bold\"> Non-trainable params: </span><span style=\"color: #00af00; text-decoration-color: #00af00\">0</span> (0.00 B)\n",
       "</pre>\n"
      ],
      "text/plain": [
       "\u001b[1m Non-trainable params: \u001b[0m\u001b[38;5;34m0\u001b[0m (0.00 B)\n"
      ]
     },
     "metadata": {},
     "output_type": "display_data"
    }
   ],
   "source": [
    "model = keras.models.Sequential([\n",
    "    keras.layers.SimpleRNN(128, return_sequences=True, activation=\"relu\", kernel_initializer=\"he_normal\", input_shape=(sequence_length, n_characters), unroll=True),\n",
    "    keras.layers.LayerNormalization(),\n",
    "    keras.layers.SimpleRNN(64, return_sequences=False, activation=\"relu\", kernel_initializer=\"he_normal\", unroll=True),\n",
    "    keras.layers.Dense(64, activation=\"relu\", kernel_initializer=\"he_normal\"),\n",
    "    keras.layers.Dense(units=n_characters, activation='softmax')\n",
    "])\n",
    "\n",
    "model.summary()"
   ]
  },
  {
   "cell_type": "markdown",
   "metadata": {
    "id": "bLfT59Q3adf9"
   },
   "source": [
    "Pour éviter l'overfitting, on se propose d'exploiter la mécanique d'[EarlyStopping](https://keras.io/api/callbacks/early_stopping/).\n",
    "\n",
    "**Consigne** : Compléter la cellule suivante pour compiler le réseau de neurones et l'entraîner avec la mécanique d'EarlyStopping à paramétrer."
   ]
  },
  {
   "cell_type": "code",
   "execution_count": 8,
   "metadata": {
    "id": "Jk1g8higXtED"
   },
   "outputs": [
    {
     "name": "stdout",
     "output_type": "stream",
     "text": [
      "Epoch 1/20\n"
     ]
    },
    {
     "name": "stderr",
     "output_type": "stream",
     "text": [
      "2024-09-18 21:45:19.458110: I tensorflow/core/grappler/optimizers/custom_graph_optimizer_registry.cc:117] Plugin optimizer for device_type GPU is enabled.\n"
     ]
    },
    {
     "name": "stdout",
     "output_type": "stream",
     "text": [
      "\u001b[1m1699/1699\u001b[0m \u001b[32m━━━━━━━━━━━━━━━━━━━━\u001b[0m\u001b[37m\u001b[0m \u001b[1m83s\u001b[0m 46ms/step - accuracy: 0.2840 - loss: 2.6271 - val_accuracy: 0.4075 - val_loss: 1.9879\n",
      "Epoch 2/20\n",
      "\u001b[1m1699/1699\u001b[0m \u001b[32m━━━━━━━━━━━━━━━━━━━━\u001b[0m\u001b[37m\u001b[0m \u001b[1m78s\u001b[0m 46ms/step - accuracy: 0.4221 - loss: 1.9206 - val_accuracy: 0.4347 - val_loss: 1.8644\n",
      "Epoch 3/20\n",
      "\u001b[1m1699/1699\u001b[0m \u001b[32m━━━━━━━━━━━━━━━━━━━━\u001b[0m\u001b[37m\u001b[0m \u001b[1m79s\u001b[0m 46ms/step - accuracy: 0.4507 - loss: 1.7926 - val_accuracy: 0.4552 - val_loss: 1.8015\n",
      "Epoch 4/20\n",
      "\u001b[1m1699/1699\u001b[0m \u001b[32m━━━━━━━━━━━━━━━━━━━━\u001b[0m\u001b[37m\u001b[0m \u001b[1m79s\u001b[0m 46ms/step - accuracy: 0.4673 - loss: 1.7251 - val_accuracy: 0.4629 - val_loss: 1.7717\n",
      "Epoch 5/20\n",
      "\u001b[1m1699/1699\u001b[0m \u001b[32m━━━━━━━━━━━━━━━━━━━━\u001b[0m\u001b[37m\u001b[0m \u001b[1m78s\u001b[0m 46ms/step - accuracy: 0.4818 - loss: 1.6728 - val_accuracy: 0.4731 - val_loss: 1.7392\n",
      "Epoch 6/20\n",
      "\u001b[1m1699/1699\u001b[0m \u001b[32m━━━━━━━━━━━━━━━━━━━━\u001b[0m\u001b[37m\u001b[0m \u001b[1m78s\u001b[0m 46ms/step - accuracy: 0.4919 - loss: 1.6340 - val_accuracy: 0.4788 - val_loss: 1.7297\n",
      "Epoch 7/20\n",
      "\u001b[1m1699/1699\u001b[0m \u001b[32m━━━━━━━━━━━━━━━━━━━━\u001b[0m\u001b[37m\u001b[0m \u001b[1m80s\u001b[0m 47ms/step - accuracy: 0.5012 - loss: 1.5972 - val_accuracy: 0.4783 - val_loss: 1.7107\n",
      "Epoch 8/20\n",
      "\u001b[1m1699/1699\u001b[0m \u001b[32m━━━━━━━━━━━━━━━━━━━━\u001b[0m\u001b[37m\u001b[0m \u001b[1m80s\u001b[0m 47ms/step - accuracy: 0.5090 - loss: 1.5686 - val_accuracy: 0.4844 - val_loss: 1.7093\n",
      "Epoch 9/20\n",
      "\u001b[1m1699/1699\u001b[0m \u001b[32m━━━━━━━━━━━━━━━━━━━━\u001b[0m\u001b[37m\u001b[0m \u001b[1m80s\u001b[0m 47ms/step - accuracy: 0.5137 - loss: 1.5530 - val_accuracy: 0.4857 - val_loss: 1.6925\n",
      "Epoch 10/20\n",
      "\u001b[1m1699/1699\u001b[0m \u001b[32m━━━━━━━━━━━━━━━━━━━━\u001b[0m\u001b[37m\u001b[0m \u001b[1m80s\u001b[0m 47ms/step - accuracy: 0.5183 - loss: 1.5330 - val_accuracy: 0.4883 - val_loss: 1.6941\n",
      "Epoch 11/20\n",
      "\u001b[1m1699/1699\u001b[0m \u001b[32m━━━━━━━━━━━━━━━━━━━━\u001b[0m\u001b[37m\u001b[0m \u001b[1m80s\u001b[0m 47ms/step - accuracy: 0.5226 - loss: 1.5136 - val_accuracy: 0.4893 - val_loss: 1.6929\n",
      "Epoch 12/20\n",
      "\u001b[1m1699/1699\u001b[0m \u001b[32m━━━━━━━━━━━━━━━━━━━━\u001b[0m\u001b[37m\u001b[0m \u001b[1m83s\u001b[0m 49ms/step - accuracy: 0.5285 - loss: 1.4964 - val_accuracy: 0.4913 - val_loss: 1.6936\n"
     ]
    }
   ],
   "source": [
    "batch_size = 64\n",
    "n_epochs = 20\n",
    "learning_rate = 5e-4\n",
    "weight_decay = 1e-4\n",
    "\n",
    "early_stopping = keras.callbacks.EarlyStopping(monitor='val_loss', patience=3, restore_best_weights=True)\n",
    "callbacks = [early_stopping]\n",
    "\n",
    "model.compile(loss=\"categorical_crossentropy\", optimizer=keras.optimizers.AdamW(learning_rate=learning_rate, weight_decay=weight_decay), metrics=[\"accuracy\"])\n",
    "history = model.fit(X_train, y_train, epochs=n_epochs, batch_size=batch_size, validation_data=(X_test, y_test), callbacks=callbacks)"
   ]
  },
  {
   "cell_type": "markdown",
   "metadata": {
    "id": "wnYgg07XaxtI"
   },
   "source": [
    "L'entraînement étant terminé, visualisons sa courbe d'entraînement."
   ]
  },
  {
   "cell_type": "code",
   "execution_count": 9,
   "metadata": {
    "id": "qsPvn4t6XuuK"
   },
   "outputs": [
    {
     "data": {
      "image/png": "[encoded data removed]",
      "text/plain": [
       "<Figure size 1500x600 with 2 Axes>"
      ]
     },
     "metadata": {},
     "output_type": "display_data"
    }
   ],
   "source": [
    "historic = pd.DataFrame(history.history)\n",
    "figure, (axis_1, axis_2) = plt.subplots(1, 2, figsize=(15, 6))\n",
    "epochs = range(1, historic.shape[0]+1)\n",
    "\n",
    "for index, (metric_name, axis) in enumerate(zip([\"loss\", \"accuracy\"], [axis_1, axis_2])):\n",
    "  color = sns.color_palette()[index]\n",
    "  axis.plot(epochs, historic[metric_name], lw=2, color=color)\n",
    "  axis.plot(epochs, historic[\"val_\" + metric_name], ls=\"--\", color=color)\n",
    "\n",
    "  if metric_name == \"accuracy\": axis.set_ylim(0, 1)\n",
    "  axis.set_ylabel(metric_name.capitalize())\n",
    "  axis.set_xlabel(\"Epochs\")\n",
    "  axis.set_title(\"%s through training\" % metric_name.capitalize())\n",
    "\n",
    "\n",
    "plt.suptitle(\"RNN Training\")\n",
    "plt.show()"
   ]
  },
  {
   "cell_type": "markdown",
   "metadata": {
    "id": "56NMPwxOa8I9"
   },
   "source": [
    "Sauvegardons le modèle pour pouvoir l'utiliser plus tard, ou sur un autre notebook par exemple."
   ]
  },
  {
   "cell_type": "code",
   "execution_count": 10,
   "metadata": {
    "id": "sS2kjywjGx8_"
   },
   "outputs": [],
   "source": [
    "def save_model(model, name):\n",
    "  model_json = model.to_json()\n",
    "  with open(name + \".json\", \"w\") as json_file:\n",
    "    json_file.write(model_json)\n",
    "  model.save_weights(name+\".weights.h5\")\n",
    "\n",
    "save_model(model, \"SimpleRNN\")"
   ]
  },
  {
   "cell_type": "markdown",
   "metadata": {
    "id": "UqMSdzSbX06B"
   },
   "source": [
    "Importons le modèle que l'on vient de sauvegarder sous un autre alias."
   ]
  },
  {
   "cell_type": "code",
   "execution_count": 11,
   "metadata": {
    "id": "FRVCXsVOHQx-"
   },
   "outputs": [],
   "source": [
    "from keras.models import model_from_json\n",
    "\n",
    "\n",
    "def load_model(name):\n",
    "  with open(name + \".json\", \"r\") as json_file:\n",
    "    model = model_from_json(json_file.read())\n",
    "  model.load_weights(name+\".weights.h5\")\n",
    "  return model\n",
    "\n",
    "\n",
    "model_SimpleRNN = load_model(\"SimpleRNN\")"
   ]
  },
  {
   "cell_type": "markdown",
   "metadata": {
    "id": "1UKNXx4lbD4g"
   },
   "source": [
    "**Consignes** : Compléter la cellule suivante pour vérifier que les performances sont bien celles que nous connaissons."
   ]
  },
  {
   "cell_type": "code",
   "execution_count": 12,
   "metadata": {
    "id": "AhFyJkrbX-bn"
   },
   "outputs": [
    {
     "name": "stdout",
     "output_type": "stream",
     "text": [
      "Test accuracy: 48.57%\n"
     ]
    }
   ],
   "source": [
    "model_SimpleRNN.compile(loss='categorical_crossentropy',optimizer=keras.optimizers.AdamW(learning_rate=learning_rate, weight_decay=weight_decay),metrics=['accuracy'])\n",
    "score = model_SimpleRNN.evaluate(X_test, y_test, verbose=0)\n",
    "print(\"Test accuracy: %.02f%%\" % (score[1]*100))"
   ]
  },
  {
   "cell_type": "markdown",
   "metadata": {
    "id": "DzMrZFmKbVfL"
   },
   "source": [
    "## Génération de texte\n",
    "\n",
    "On souhaite exploiter le modèle pour générer de la poésie dans le style de Beaudelaire.\n",
    "On se propose de commencer par un bout d'un poème au hasard."
   ]
  },
  {
   "cell_type": "code",
   "execution_count": 13,
   "metadata": {},
   "outputs": [
    {
     "name": "stdout",
     "output_type": "stream",
     "text": [
      "Start sequence: mère épouvantée et pleine de bla\n"
     ]
    }
   ],
   "source": [
    "seed = 2025\n",
    "sequence = \"\"\n",
    "for index in range(sequence_length):\n",
    " character = index_to_character[np.argmax(X_train[seed, index, :])]\n",
    " sequence += character\n",
    "\n",
    "print(\"Start sequence: \" + sequence)"
   ]
  },
  {
   "cell_type": "markdown",
   "metadata": {
    "id": "NeGrigxYa9lj"
   },
   "source": [
    "Pour choisir le prochain caractère, nous pouvons simplement sélectionner le caractère le plus probable prédit par le modèle. Cette approche peut amener le modèle à dégénérer.\n",
    "\n",
    "Nous allons essayer de sélectionner aléatoirement l'index du prochain caractère en s'appuyant sur le vecteur de probabilité produit par le réseau de neurone définit plus tôt."
   ]
  },
  {
   "cell_type": "markdown",
   "metadata": {
    "id": "eu6NDVX6bpLn"
   },
   "source": [
    "### Température\n",
    "\n",
    "On considère un vecteur $u = (u_1, u_2, \\ldots, u_d)$ et un paramètre $\\tau > 0$ que l'on appelle la température. On peut construire le vecteur $v = (v_1, v_2, \\ldots, v_d)$ à partir de $u$ et de $\\tau$ comme:\n",
    "\n",
    "$$\\forall i \\leqslant d, \\quad v_i = \\frac{\\displaystyle \\exp\\left(\\frac{u_i}{\\tau}\\right)}{\\displaystyle \\sum_{j=1}^d \\exp\\left(\\frac{u_j}{\\tau}\\right)}$$\n",
    "\n",
    "Cela ressemble à la fonction softmax mais paramétrer par la température $\\tau$.\n",
    "\n",
    "**Consigne** : Ecrire une fonction nommé `sampling` qui prend en paramètre un vecteur de probabilité et la température. Cette fonction doit renvoyer un index sélectionné selon le vecteur de probabilité définit par la température. On s'appuiera sur le travail de la cellule précédente."
   ]
  },
  {
   "cell_type": "code",
   "execution_count": 14,
   "metadata": {
    "id": "Jeglw8biH6E8"
   },
   "outputs": [],
   "source": [
    "def sampling(probabilities, temperature=1.0):\n",
    "    probabilities = np.asarray(probabilities).astype('float64')\n",
    "    probabilities = pow(probabilities, 1.0 / temperature)\n",
    "    probabilities /= np.sum(probabilities)\n",
    "    probabilities = np.random.multinomial(n=1, pvals=probabilities, size=1)\n",
    "    return np.argmax(probabilities)"
   ]
  },
  {
   "cell_type": "markdown",
   "metadata": {
    "id": "9i1JrHL-cCAq"
   },
   "source": [
    "Maintenant que nous sommes capables de sélectionner le prochain caractère avec plus de justesse, il ne nous restes plus qu'à générer la suite de la phrase !"
   ]
  },
  {
   "cell_type": "code",
   "execution_count": 15,
   "metadata": {
    "id": "faT74GT7PkJt"
   },
   "outputs": [],
   "source": [
    "def generate_sequence(start, length, model, temperature=1):\n",
    "  sequence = np.zeros((1, sequence_length, n_characters), dtype=bool)\n",
    "  for position, character in enumerate(start):\n",
    "    sequence[0][position][character_to_index[character]] = True\n",
    "\n",
    "  generated_sequence = start\n",
    "\n",
    "\n",
    "  for _ in range(length):\n",
    "    probabilities = model.predict(sequence, verbose=0)[0]\n",
    "    next_index = sampling(probabilities, temperature=temperature)\n",
    "    character = index_to_character[next_index]\n",
    "    generated_sequence += character\n",
    "\n",
    "    for index in range(sequence_length-1): sequence[0, index, :] = sequence[0, index+1, :]\n",
    "\n",
    "    sequence[0, sequence_length-1, :] = 0\n",
    "    sequence[0, sequence_length-1, next_index] = 1\n",
    "\n",
    "\n",
    "  return generated_sequence"
   ]
  },
  {
   "cell_type": "markdown",
   "metadata": {
    "id": "v4Rm2tKib-md"
   },
   "source": [
    "Avec l'ensemble du travail, on a :"
   ]
  },
  {
   "cell_type": "code",
   "execution_count": 16,
   "metadata": {
    "id": "qvHtwn9ZcC-t"
   },
   "outputs": [
    {
     "data": {
      "text/plain": [
       "'mère épouvantée et pleine de blanche et toujours un soir sous sans ma jamais les i'"
      ]
     },
     "execution_count": 16,
     "metadata": {},
     "output_type": "execute_result"
    }
   ],
   "source": [
    "generate_sequence(start=sequence, length=50, model=model_SimpleRNN, temperature=0.5)"
   ]
  },
  {
   "cell_type": "markdown",
   "metadata": {
    "id": "BYX-wJDHcazG"
   },
   "source": [
    "## Pour continuer\n",
    "\n",
    "Choisir une ou plusieurs pistes de recherche parmi les suivantes. Il est possible de choisir une autre direction, mais elle doit être validé auparavant.\n",
    "\n",
    "1. Nous avons défini une seule architecture. On peut en essayer d'autres et les comparer à la fois avec les courbes d'apprentissages mais également avec la génération de texte.\n",
    "2. Il existe une couche [`Embedding`](https://keras.io/api/layers/core_layers/embedding/). On se propose de l'exploiter et de mesurer ses performances.\n"
   ]
  }
 ],
 "metadata": {
  "colab": {
   "provenance": []
  },
  "kernelspec": {
   "display_name": "Python 3",
   "language": "python",
   "name": "python3"
  },
  "language_info": {
   "codemirror_mode": {
    "name": "ipython",
    "version": 3
   },
   "file_extension": ".py",
   "mimetype": "text/x-python",
   "name": "python",
   "nbconvert_exporter": "python",
   "pygments_lexer": "ipython3",
   "version": "3.9.6"
  }
 },
 "nbformat": 4,
 "nbformat_minor": 1
}
