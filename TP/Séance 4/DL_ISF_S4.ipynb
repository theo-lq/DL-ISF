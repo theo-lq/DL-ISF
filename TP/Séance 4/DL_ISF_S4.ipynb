{
 "cells": [
  {
   "cell_type": "markdown",
   "metadata": {
    "id": "Z7cDc2dVX2D1"
   },
   "source": [
    "# Séance 4 - Réseau récurrent\n",
    "\n",
    "Dans cette séance nous allons entraîner un modèle à copier le style de poésie de Beaudelaire, spécifiquement l'oeuvre *Les fleurs du mal*. Ce TP est largement inspiré du cours du [CNAM](https://cedric.cnam.fr/~thomen/cours/US330X/tpRNNs.html) que l'on a adapté ici.\n",
    "\n",
    "Pour cela, nous utiliserons le projet [Gutenberg](https://www.gutenberg.org) qui permet l'accès l'ensemble des oeuvres littéraires classique gratuitement. C'est sur ce dataset, entre autres, que les LLM s'entraînent.\n",
    "\n",
    "Commençons par importer les packages dont nous aurons besoin."
   ]
  },
  {
   "cell_type": "code",
   "execution_count": 1,
   "metadata": {
    "id": "Pe1mrRDtYaBM"
   },
   "outputs": [],
   "source": [
    "import numpy as np\n",
    "import pandas as pd\n",
    "import matplotlib.pyplot as plt\n",
    "import seaborn as sns; sns.set(style=\"whitegrid\")\n",
    "\n",
    "import tensorflow as tf\n",
    "from tensorflow import keras"
   ]
  },
  {
   "cell_type": "markdown",
   "metadata": {
    "id": "InTQRzhkY6My"
   },
   "source": [
    "Après avoir chargé dans l'environnement le fichier .txt de poésie, nous devons le travailler un peu pour l'exploiter."
   ]
  },
  {
   "cell_type": "code",
   "execution_count": 2,
   "metadata": {
    "id": "hkSTixun__Xw"
   },
   "outputs": [],
   "source": [
    "start = False\n",
    "book = open(\"Beaudelaire.txt\", 'r' , encoding = 'utf8')\n",
    "lines = book.readlines()\n",
    "verses = []\n",
    "\n",
    "for line in lines:\n",
    " line = line.strip().lower()\n",
    " if(\"AU LECTEUR\".lower() in line and start==False):\n",
    "  start = True\n",
    " if(\"End of the Project Gutenberg EBook of Les Fleurs du Mal, by Charles Baudelaire\".lower() in line):\n",
    "  break\n",
    " if(start==False or len(line) == 0):\n",
    "  continue\n",
    " verses.append(line)\n",
    "\n",
    "book.close()\n",
    "text = \" \".join(verses)\n",
    "characters = sorted(set([character for character in text]))\n",
    "n_characters = len(characters)"
   ]
  },
  {
   "cell_type": "markdown",
   "metadata": {
    "id": "7626TUDbZHVf"
   },
   "source": [
    "On décide ici de le découper en séquence de 32 caractères et de se décaler d'un caractère à chaque fois. Nous allons donc prédire le caractère suivant à partir des 32 caractères précédents.\n",
    "Construisons deux listes qui, une fois transformée, deviendront $X$ et $y$."
   ]
  },
  {
   "cell_type": "code",
   "execution_count": 3,
   "metadata": {
    "id": "uO403MyQAzim"
   },
   "outputs": [],
   "source": [
    "sequence_length = 32\n",
    "stride = 1\n",
    "sequences = []\n",
    "y_character = []\n",
    "for index in range(0, len(text) - sequence_length, stride):\n",
    " sequences.append(text[index:(index + sequence_length)])\n",
    " y_character.append(text[index + sequence_length])"
   ]
  },
  {
   "cell_type": "markdown",
   "metadata": {
    "id": "12vayeAWZaAo"
   },
   "source": [
    "Un réseau de neurone ne comprend pas le texte, donc nous devrons jongler entre nombre et caractères. Pour cela, nous créons deux dictionnaires pour traduire ces deux visions."
   ]
  },
  {
   "cell_type": "code",
   "execution_count": 4,
   "metadata": {
    "id": "rGkZx3JQB3gn"
   },
   "outputs": [],
   "source": [
    "character_to_index = dict((character, index) for index, character in enumerate(characters))\n",
    "index_to_character = dict((index, character) for index, character in enumerate(characters))"
   ]
  },
  {
   "cell_type": "markdown",
   "metadata": {
    "id": "4er_XSvHZljl"
   },
   "source": [
    "Nous sommes maintenant prêt pour renseigner $X$ et $y$."
   ]
  },
  {
   "cell_type": "code",
   "execution_count": 5,
   "metadata": {
    "id": "3b5vdYJ_DO8y"
   },
   "outputs": [],
   "source": [
    "X = np.zeros((len(sequences), sequence_length, n_characters), dtype=bool)\n",
    "y = np.zeros((len(sequences), n_characters), dtype=bool)\n",
    "\n",
    "for row, sequence in enumerate(sequences):\n",
    "  for position, character in enumerate(sequence):\n",
    "    X[row][position][character_to_index[character]] = True\n",
    "  y[row][character_to_index[y_character[row]]] = True"
   ]
  },
  {
   "cell_type": "markdown",
   "metadata": {
    "id": "GhrZsGulZs6U"
   },
   "source": [
    "Découpons à présent $X$ et $y$ en un jeu de test et un jeu d'entraînement."
   ]
  },
  {
   "cell_type": "code",
   "execution_count": 6,
   "metadata": {
    "id": "b37hlbPmFUd6"
   },
   "outputs": [],
   "source": [
    "train_size = 0.8\n",
    "train_index = int(round(len(sequences)*train_size))\n",
    "X_train = X[:train_index,:,:]\n",
    "y_train = y[:train_index,:]\n",
    "\n",
    "X_test = X[train_index:,:,:]\n",
    "y_test = y[train_index:,:]"
   ]
  },
  {
   "cell_type": "markdown",
   "metadata": {
    "id": "K-zzNAhSZ7pA"
   },
   "source": [
    "## Modélisation\n",
    "\n",
    "Dans cet exemple, nous allons définir un réseau récurrent avec les neurones de bases : pas de LSTM ou GRU.\n",
    "\n",
    "Un neurone *SimpleRNN* possède les mêmes attributs qu'un neurones classique en plus de deux paramètres majeurs:\n",
    "* **return_sequences**: si l'on doit renvoyer la totalité de la séquence ou seulement la dernière valeur\n",
    "* **unroll**: permet d'accélérer l'entraînement du réseau de neurone au prix de plus de mémoire impliquée\n",
    "\n",
    "\n",
    "Il ne nous reste plus qu'à le définir."
   ]
  },
  {
   "cell_type": "code",
   "execution_count": 8,
   "metadata": {
    "colab": {
     "base_uri": "https://localhost:8080/"
    },
    "id": "_LCjrpWaFciK",
    "outputId": "1de6e7c5-1e2d-40b0-f01e-f21e609c11d5"
   },
   "outputs": [
    {
     "name": "stdout",
     "output_type": "stream",
     "text": [
      "Model: \"sequential\"\n",
      "_________________________________________________________________\n",
      " Layer (type)                Output Shape              Param #   \n",
      "=================================================================\n",
      " simple_rnn_2 (SimpleRNN)    (None, 32, 128)           23424     \n",
      "                                                                 \n",
      " layer_normalization_1 (Lay  (None, 32, 128)           256       \n",
      " erNormalization)                                                \n",
      "                                                                 \n",
      " simple_rnn_3 (SimpleRNN)    (None, 64)                12352     \n",
      "                                                                 \n",
      " dense (Dense)               (None, 64)                4160      \n",
      "                                                                 \n",
      " dense_1 (Dense)             (None, 54)                3510      \n",
      "                                                                 \n",
      "=================================================================\n",
      "Total params: 43702 (170.71 KB)\n",
      "Trainable params: 43702 (170.71 KB)\n",
      "Non-trainable params: 0 (0.00 Byte)\n",
      "_________________________________________________________________\n"
     ]
    }
   ],
   "source": [
    "model = keras.models.Sequential([\n",
    "    keras.layers.SimpleRNN(128, return_sequences=True, activation=\"relu\", kernel_initializer=\"he_normal\", input_shape=(sequence_length, n_characters), unroll=True),\n",
    "    keras.layers.LayerNormalization(),\n",
    "    keras.layers.SimpleRNN(64, return_sequences=False, activation=\"relu\", kernel_initializer=\"he_normal\", unroll=True),\n",
    "    keras.layers.Dense(64, activation=\"relu\", kernel_initializer=\"he_normal\"),\n",
    "    keras.layers.Dense(units=n_characters, activation='softmax')\n",
    "])\n",
    "\n",
    "model.summary()"
   ]
  },
  {
   "cell_type": "markdown",
   "metadata": {
    "id": "bLfT59Q3adf9"
   },
   "source": [
    "Pour accélérer l'entraînement, nous décidons de choisir un batch size de 64 et d'utiliser AdamW comme optimizer.\n",
    "\n",
    "Pour éviter l'overfitting, on se propose d'exploiter la mécanique d'*EarlyStopping*. A FAIRE"
   ]
  },
  {
   "cell_type": "code",
   "execution_count": 9,
   "metadata": {
    "colab": {
     "base_uri": "https://localhost:8080/"
    },
    "id": "HvKqhKOtF614",
    "outputId": "122fa048-4852-4285-d4b3-3e844098d14d"
   },
   "outputs": [
    {
     "name": "stdout",
     "output_type": "stream",
     "text": [
      "Epoch 1/20\n",
      "1699/1699 [==============================] - 40s 21ms/step - loss: 2.1540 - accuracy: 0.3690 - val_loss: 1.9211 - val_accuracy: 0.4246\n",
      "Epoch 2/20\n",
      "1699/1699 [==============================] - 37s 22ms/step - loss: 1.8247 - accuracy: 0.4423 - val_loss: 1.8147 - val_accuracy: 0.4509\n",
      "Epoch 3/20\n",
      "1699/1699 [==============================] - 37s 22ms/step - loss: 1.7315 - accuracy: 0.4647 - val_loss: 1.7751 - val_accuracy: 0.4552\n",
      "Epoch 4/20\n",
      "1699/1699 [==============================] - 40s 23ms/step - loss: 1.6779 - accuracy: 0.4808 - val_loss: 1.7361 - val_accuracy: 0.4753\n",
      "Epoch 5/20\n",
      "1699/1699 [==============================] - 37s 22ms/step - loss: 1.6390 - accuracy: 0.4907 - val_loss: 1.7046 - val_accuracy: 0.4807\n",
      "Epoch 6/20\n",
      "1699/1699 [==============================] - 38s 22ms/step - loss: 1.6049 - accuracy: 0.4983 - val_loss: 1.6946 - val_accuracy: 0.4843\n",
      "Epoch 7/20\n",
      "1699/1699 [==============================] - 42s 24ms/step - loss: 1.5788 - accuracy: 0.5054 - val_loss: 1.7049 - val_accuracy: 0.4861\n",
      "Epoch 8/20\n",
      "1699/1699 [==============================] - 37s 22ms/step - loss: 1.5591 - accuracy: 0.5107 - val_loss: 1.6925 - val_accuracy: 0.4872\n",
      "Epoch 9/20\n",
      "1699/1699 [==============================] - 38s 22ms/step - loss: 1.5400 - accuracy: 0.5151 - val_loss: 1.6883 - val_accuracy: 0.4880\n",
      "Epoch 10/20\n",
      "1699/1699 [==============================] - 42s 24ms/step - loss: 1.5232 - accuracy: 0.5189 - val_loss: 1.6827 - val_accuracy: 0.4867\n",
      "Epoch 11/20\n",
      "1699/1699 [==============================] - 38s 22ms/step - loss: 1.5110 - accuracy: 0.5217 - val_loss: 1.6774 - val_accuracy: 0.4928\n",
      "Epoch 12/20\n",
      "1699/1699 [==============================] - 38s 22ms/step - loss: 1.4963 - accuracy: 0.5248 - val_loss: 1.6814 - val_accuracy: 0.4974\n",
      "Epoch 13/20\n",
      "1699/1699 [==============================] - 42s 25ms/step - loss: 1.4870 - accuracy: 0.5283 - val_loss: 1.6978 - val_accuracy: 0.4921\n",
      "Epoch 14/20\n",
      "1699/1699 [==============================] - 40s 24ms/step - loss: 1.4771 - accuracy: 0.5288 - val_loss: 1.6898 - val_accuracy: 0.4926\n",
      "Epoch 15/20\n",
      "1699/1699 [==============================] - 38s 23ms/step - loss: 1.4679 - accuracy: 0.5317 - val_loss: 1.6946 - val_accuracy: 0.4943\n",
      "Epoch 16/20\n",
      "1699/1699 [==============================] - 41s 24ms/step - loss: 1.4573 - accuracy: 0.5351 - val_loss: 1.6852 - val_accuracy: 0.4971\n",
      "Epoch 17/20\n",
      "1699/1699 [==============================] - 40s 24ms/step - loss: 1.4495 - accuracy: 0.5374 - val_loss: 1.6924 - val_accuracy: 0.4926\n",
      "Epoch 18/20\n",
      "1699/1699 [==============================] - 39s 23ms/step - loss: 1.4440 - accuracy: 0.5374 - val_loss: 1.6907 - val_accuracy: 0.4927\n",
      "Epoch 19/20\n",
      "1699/1699 [==============================] - 42s 25ms/step - loss: 1.4363 - accuracy: 0.5417 - val_loss: 1.6994 - val_accuracy: 0.4965\n",
      "Epoch 20/20\n",
      "1699/1699 [==============================] - 39s 23ms/step - loss: 1.4315 - accuracy: 0.5414 - val_loss: 1.7049 - val_accuracy: 0.4906\n"
     ]
    }
   ],
   "source": [
    "batch_size = 64\n",
    "n_epochs = 20\n",
    "learning_rate = 1e-3\n",
    "weight_decay = 1e-3\n",
    "model.compile(loss=\"categorical_crossentropy\", optimizer=keras.optimizers.AdamW(learning_rate=learning_rate, weight_decay=weight_decay), metrics=[\"accuracy\"])\n",
    "history = model.fit(X_train, y_train, epochs=n_epochs, batch_size=batch_size, validation_data=(X_test, y_test))"
   ]
  },
  {
   "cell_type": "markdown",
   "metadata": {
    "id": "wnYgg07XaxtI"
   },
   "source": [
    "L'entraînement étant terminé, visualisons sa courbe d'entraînement."
   ]
  },
  {
   "cell_type": "code",
   "execution_count": 19,
   "metadata": {
    "colab": {
     "base_uri": "https://localhost:8080/",
     "height": 610
    },
    "id": "gNcRef4QUA4p",
    "outputId": "f87a0bf6-dcc0-49f8-b960-d90e893e9980"
   },
   "outputs": [
    {
     "data": {
      "image/png": "[encoded data removed]",
      "text/plain": [
       "<Figure size 1500x600 with 2 Axes>"
      ]
     },
     "metadata": {},
     "output_type": "display_data"
    }
   ],
   "source": [
    "historic = pd.DataFrame(history.history)\n",
    "figure, (axis_1, axis_2) = plt.subplots(1, 2, figsize=(15, 6))\n",
    "epochs = range(1, n_epochs+1)\n",
    "\n",
    "for index, (metric_name, axis) in enumerate(zip([\"loss\", \"accuracy\"], [axis_1, axis_2])):\n",
    "  color = sns.color_palette()[index]\n",
    "  axis.plot(epochs, historic[metric_name], lw=2, color=color)\n",
    "  axis.plot(epochs, historic[\"val_\" + metric_name], ls=\"--\", color=color)\n",
    "\n",
    "  if metric_name == \"accuracy\": axis.set_ylim(0, 1)\n",
    "  axis.set_ylabel(metric_name.capitalize())\n",
    "  axis.set_xlabel(\"Epochs\")\n",
    "  axis.set_title(\"%s through training\" % metric_name.capitalize())\n",
    "\n",
    "\n",
    "plt.suptitle(\"RNN Training\")\n",
    "plt.show()"
   ]
  },
  {
   "cell_type": "markdown",
   "metadata": {
    "id": "56NMPwxOa8I9"
   },
   "source": [
    "On note un overfitting fort ! Il faudrait probablement mieux régulariser le réseau, réduire le learning rate est également une possibilité.\n",
    "Sauvegardons le modèle pour pouvoir l'utiliser plus tard, ou sur un autre notebook par exemple."
   ]
  },
  {
   "cell_type": "code",
   "execution_count": 21,
   "metadata": {
    "id": "sS2kjywjGx8_"
   },
   "outputs": [],
   "source": [
    "def save_model(model, name):\n",
    "  model_json = model.to_json()\n",
    "  with open(name + \".json\", \"w\") as json_file:\n",
    "    json_file.write(model_json)\n",
    "  model.save_weights(name+\".h5\")\n",
    "\n",
    "save_model(model, \"SimpleRNN\")"
   ]
  },
  {
   "cell_type": "markdown",
   "metadata": {},
   "source": [
    "Importons le modèle que l'on vient de sauvegarder sous un autre alias."
   ]
  },
  {
   "cell_type": "code",
   "execution_count": 22,
   "metadata": {
    "id": "FRVCXsVOHQx-"
   },
   "outputs": [],
   "source": [
    "from keras.models import model_from_json\n",
    "\n",
    "\n",
    "def load_model(name):\n",
    "  with open(name + \".json\", \"r\") as json_file:\n",
    "    model = model_from_json(json_file.read())\n",
    "  model.load_weights(name+\".h5\")\n",
    "  return model\n",
    "\n",
    "\n",
    "model_SimpleRNN = load_model(\"SimpleRNN\")"
   ]
  },
  {
   "cell_type": "markdown",
   "metadata": {
    "id": "1UKNXx4lbD4g"
   },
   "source": [
    "Vérifions que les performances sont bien celles que nous connaissons:"
   ]
  },
  {
   "cell_type": "code",
   "execution_count": 14,
   "metadata": {
    "colab": {
     "base_uri": "https://localhost:8080/"
    },
    "id": "vQ4ouestHdJ8",
    "outputId": "bf38edd5-8ea6-42ad-b92f-9078bf798713"
   },
   "outputs": [
    {
     "name": "stdout",
     "output_type": "stream",
     "text": [
      "Test accuracy: 49.06%\n"
     ]
    }
   ],
   "source": [
    "model_SimpleRNN.compile(loss='categorical_crossentropy',optimizer=keras.optimizers.AdamW(learning_rate=learning_rate, weight_decay=weight_decay),metrics=['accuracy'])\n",
    "score = model_SimpleRNN.evaluate(X_test, y_test, verbose=0)\n",
    "print(\"Test accuracy: %.02f%%\" % (score[1]*100))"
   ]
  },
  {
   "cell_type": "markdown",
   "metadata": {
    "id": "DzMrZFmKbVfL"
   },
   "source": [
    "## Génération de texte\n",
    "\n",
    "On souhaite exploiter le modèle pour générer de la poésie dans le style de Beaudelaire.\n",
    "On se propose de commencer par un bout d'un poème au hasard."
   ]
  },
  {
   "cell_type": "code",
   "execution_count": 27,
   "metadata": {
    "colab": {
     "base_uri": "https://localhost:8080/"
    },
    "id": "3h5HvozoHwUm",
    "outputId": "2ee6a53d-a4a7-4bdb-a850-2b4ef6a79b55"
   },
   "outputs": [
    {
     "name": "stdout",
     "output_type": "stream",
     "text": [
      "Start sequence: mère épouvantée et pleine de bla\n"
     ]
    }
   ],
   "source": [
    "seed = 2025\n",
    "sequence = \"\"\n",
    "for index in range(sequence_length):\n",
    " character = index_to_character[np.argmax(X_train[seed, index, :])]\n",
    " sequence += character\n",
    "\n",
    "print(\"Start sequence: \" + sequence)"
   ]
  },
  {
   "cell_type": "markdown",
   "metadata": {
    "id": "eu6NDVX6bpLn"
   },
   "source": [
    "Pour choisir le prochain caractère, nous pouvons simplement sélectionner le caractère le plus probable prédit par le modèle.\n",
    "Cette approche peut amener le modèle à dégénérer. Nous allons ici exploiter le *temperature sampling*."
   ]
  },
  {
   "cell_type": "code",
   "execution_count": 16,
   "metadata": {
    "id": "Jeglw8biH6E8"
   },
   "outputs": [],
   "source": [
    "def sampling(probabilities, temperature=1.0):\n",
    " probabilities = np.asarray(probabilities).astype('float64')\n",
    " probabilities = pow(probabilities, 1.0 / temperature)\n",
    " probabilities /= np.sum(probabilities)\n",
    " probabilities = np.random.multinomial(n=1, pvals=probabilities, size=1)\n",
    " return np.argmax(probabilities)"
   ]
  },
  {
   "cell_type": "markdown",
   "metadata": {
    "id": "9i1JrHL-cCAq"
   },
   "source": [
    "Maintenant que nous sommes capables de sélectionner le prochain mot avec plus de justesse, il ne nous restes plus qu'à générer la suite de la phrase !"
   ]
  },
  {
   "cell_type": "code",
   "execution_count": 28,
   "metadata": {
    "id": "faT74GT7PkJt"
   },
   "outputs": [],
   "source": [
    "def generate_sequence(start, length, model, temperature=1):\n",
    "\n",
    "  sequence = np.zeros((1, sequence_length, n_characters), dtype=bool)\n",
    "  for position, character in enumerate(start):\n",
    "    sequence[0][position][character_to_index[character]] = True\n",
    "\n",
    "  generated_sequence = start\n",
    "\n",
    "  for _ in range(length):\n",
    "    probabilities = model.predict(sequence, verbose=0)[0]\n",
    "    next_index = sampling(probabilities, temperature=temperature)\n",
    "    character = index_to_character[next_index]\n",
    "    generated_sequence += character\n",
    "    for index in range(sequence_length-1): sequence[0, index, :] = sequence[0, index+1, :]\n",
    "    sequence[0, sequence_length-1, :] = 0\n",
    "    sequence[0, sequence_length-1, next_index] = 1\n",
    "  return generated_sequence"
   ]
  },
  {
   "cell_type": "code",
   "execution_count": 29,
   "metadata": {
    "colab": {
     "base_uri": "https://localhost:8080/",
     "height": 35
    },
    "id": "ntBTvkJKREGS",
    "outputId": "864983d3-6cd5-4bdf-f361-3d134b24520d"
   },
   "outputs": [
    {
     "data": {
      "application/vnd.google.colaboratory.intrinsic+json": {
       "type": "string"
      },
      "text/plain": [
       "\"mère épouvantée et pleine de blasphème et fleurs et se voir les marche et l'orguei\""
      ]
     },
     "execution_count": 29,
     "metadata": {},
     "output_type": "execute_result"
    }
   ],
   "source": [
    "generate_sequence(start=sequence, length=50, model=model_SimpleRNN, temperature=0.5)"
   ]
  },
  {
   "cell_type": "markdown",
   "metadata": {
    "id": "BYX-wJDHcazG"
   },
   "source": [
    "Dans le texte, la strophe était:\n",
    "\n",
    "*Lorsque, par un décret des puissances suprêmes,\n",
    "Le Poète apparaît en ce monde ennuyé,\n",
    "Sa **mère épouvantée et pleine de bla**sphèmes\n",
    "Crispe ses poings vers Dieu, qui la prend en pitié:*\n"
   ]
  }
 ],
 "metadata": {
  "colab": {
   "provenance": []
  },
  "kernelspec": {
   "display_name": "Python 3",
   "language": "python",
   "name": "python3"
  },
  "language_info": {
   "codemirror_mode": {
    "name": "ipython",
    "version": 3
   },
   "file_extension": ".py",
   "mimetype": "text/x-python",
   "name": "python",
   "nbconvert_exporter": "python",
   "pygments_lexer": "ipython3",
   "version": "3.6.5"
  }
 },
 "nbformat": 4,
 "nbformat_minor": 1
}
