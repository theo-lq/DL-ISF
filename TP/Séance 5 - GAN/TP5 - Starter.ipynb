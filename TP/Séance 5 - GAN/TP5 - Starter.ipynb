{
 "cells": [
  {
   "cell_type": "markdown",
   "metadata": {},
   "source": [
    "# Séance 5 - GAN\n",
    "\n",
    "L'objectif de cette séance est d'entraîner un GAN pour générer des images de chiffres manuscrit. Pour le faire, nous utiliserons le datasets MNIST et suivrons quelques astuces pour entraîner les GAN que l'on retrouve [ici](https://github.com/soumith/ganhacks). Attention, la liste n'est pas maintenue donc ce n'est peut-être pas le véritable optimum.\n",
    "\n",
    "Commençons par importer les données."
   ]
  },
  {
   "cell_type": "code",
   "execution_count": 1,
   "metadata": {},
   "outputs": [],
   "source": [
    "import numpy as np\n",
    "import pandas as pd\n",
    "import matplotlib.pyplot as plt\n",
    "import seaborn as sns; sns.set(style=\"whitegrid\")\n",
    "\n",
    "import tensorflow as tf\n",
    "from tensorflow import keras\n",
    "\n",
    "(X_train, y_train), (_, _) = keras.datasets.mnist.load_data()"
   ]
  },
  {
   "cell_type": "markdown",
   "metadata": {},
   "source": [
    "**Consigne**: Il est recommandé (*Hack#1*) de normaliser les images entre -1 et 1. En sachant que les images de MNIST sont en niveau de gris entre 0 et 255, suivre la recommandation. "
   ]
  },
  {
   "cell_type": "code",
   "execution_count": 2,
   "metadata": {},
   "outputs": [],
   "source": []
  },
  {
   "cell_type": "markdown",
   "metadata": {},
   "source": [
    "La dimension de l'image générée par le générateur sera de (28, 28, 1), donc le discriminateur attend le même format. Pour le moment les images MNIST sont au format (28, 28), rajoutons donc une dimension."
   ]
  },
  {
   "cell_type": "code",
   "execution_count": 3,
   "metadata": {},
   "outputs": [],
   "source": [
    "X_train = np.expand_dims(X_train, axis=-1)"
   ]
  },
  {
   "cell_type": "markdown",
   "metadata": {},
   "source": [
    "Il nous faut maintenant une dimension pour le vecteur de bruit initial. Nous choisissons ici 100."
   ]
  },
  {
   "cell_type": "code",
   "execution_count": 4,
   "metadata": {},
   "outputs": [],
   "source": [
    "random_dimension = 100"
   ]
  },
  {
   "cell_type": "markdown",
   "metadata": {},
   "source": [
    "A partir du vecteur aléatoire nous pouvons produire une image de taille 7x7 puis augmenter la dimension à l'aide de la couche [Conv2DTranspose](https://keras.io/api/layers/convolution_layers/convolution2d_transpose/).\n",
    "\n",
    "**Consigne** : Définir le modèle générateur en utilisant la couche [Conv2DTranspose](https://keras.io/api/layers/convolution_layers/convolution2d_transpose/), et suivre la recommandation (*#Hack5*) en n'utilisant pas les couches de pooling et la fonction d'activation ReLU. Utiliser à la place [LeakyReLU](https://keras.io/api/layers/activation_layers/leaky_relu/) et [BatchNormalization](https://keras.io/api/layers/normalization_layers/batch_normalization/) (*#Hack4*).\n",
    "\n",
    "Astuce : utiliser la méthode [`summary`](https://keras.io/api/models/model/#summary-method) pour vérifier que le générateur produit bien une image de taille (28, 28, 1)."
   ]
  },
  {
   "cell_type": "code",
   "execution_count": null,
   "metadata": {},
   "outputs": [],
   "source": []
  },
  {
   "cell_type": "markdown",
   "metadata": {},
   "source": [
    "**Consigne**: Définir le modèle discriminant en utilisant la [couche de convolution](https://keras.io/api/layers/convolution_layers/convolution2d/) mais pas de pooling et [LeakyReLU](https://keras.io/api/layers/activation_layers/leaky_relu/) et [BatchNormalization](https://keras.io/api/layers/normalization_layers/batch_normalization/) (*#Hack4*)."
   ]
  },
  {
   "cell_type": "code",
   "execution_count": null,
   "metadata": {},
   "outputs": [],
   "source": []
  },
  {
   "cell_type": "markdown",
   "metadata": {},
   "source": [
    "Les modèles sont défini mais pas compilé. Les deux cherche à optimiser la [crossentropy](https://keras.io/api/losses/probabilistic_losses/#binarycrossentropy-class), mais selon le *#Hack9* les deux modèles ne doivent pas avoir le même schéma de descente de gradient :\n",
    "* [Adam](https://keras.io/api/optimizers/adam/) pour le générateur\n",
    "* [SGD](https://keras.io/api/optimizers/sgd/) pour le discriminateur\n",
    "\n",
    "**Consigne**: Compiler les modèles en suivant les recommandations."
   ]
  },
  {
   "cell_type": "code",
   "execution_count": 9,
   "metadata": {},
   "outputs": [],
   "source": []
  },
  {
   "cell_type": "markdown",
   "metadata": {},
   "source": [
    "Il reste maintenant à implémenter une classe pour entraîner un GAN. \n",
    "\n",
    "**Consigne** : À partir de la classe `VanillaGAN`, définir puis compiler le modèle avec [Adam](https://keras.io/api/optimizers/adam/) et la [crossentropy](https://keras.io/api/losses/probabilistic_losses/#binarycrossentropy-class).\n",
    "\n",
    "Il est conseillé de regarder en détail le code et de l'améliorer si possible. On pourra implémenter le *#Hack6* par exemple."
   ]
  },
  {
   "cell_type": "code",
   "execution_count": null,
   "metadata": {},
   "outputs": [],
   "source": []
  },
  {
   "cell_type": "markdown",
   "metadata": {},
   "source": [
    "**Consigne** : Entraîner le modèle sur quelques époques."
   ]
  },
  {
   "cell_type": "code",
   "execution_count": null,
   "metadata": {},
   "outputs": [],
   "source": []
  },
  {
   "cell_type": "markdown",
   "metadata": {},
   "source": [
    "On souhaite avoir une inspection visuelle du modèle.\n",
    "\n",
    "**Consigne** : À l'aide de la méthode `generate_image` afficher une série d'image produite par le générateur."
   ]
  },
  {
   "cell_type": "code",
   "execution_count": null,
   "metadata": {},
   "outputs": [],
   "source": []
  }
 ],
 "metadata": {
  "kernelspec": {
   "display_name": "Python 3",
   "language": "python",
   "name": "python3"
  },
  "language_info": {
   "codemirror_mode": {
    "name": "ipython",
    "version": 3
   },
   "file_extension": ".py",
   "mimetype": "text/x-python",
   "name": "python",
   "nbconvert_exporter": "python",
   "pygments_lexer": "ipython3",
   "version": "3.9.6"
  }
 },
 "nbformat": 4,
 "nbformat_minor": 2
}
